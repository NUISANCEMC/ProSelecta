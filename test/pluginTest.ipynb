{
 "cells": [
  {
   "cell_type": "code",
   "execution_count": 1,
   "id": "088640b0-efee-40d5-b38f-397eea13266b",
   "metadata": {},
   "outputs": [
    {
     "name": "stdout",
     "output_type": "stream",
     "text": [
      "Welcome to JupyROOT 6.30/04\n"
     ]
    }
   ],
   "source": [
    "import pyProSelectaPlugin as psp\n",
    "import pyProSelecta as pps\n",
    "import ROOT"
   ]
  },
  {
   "cell_type": "code",
   "execution_count": 2,
   "id": "92105a5e-6099-496b-b9eb-d543ac1e1720",
   "metadata": {},
   "outputs": [
    {
     "data": {
      "text/plain": [
       "True"
      ]
     },
     "execution_count": 2,
     "metadata": {},
     "output_type": "execute_result"
    }
   ],
   "source": [
    "pps.load_text(\"int myfirstfunc(HepMC3::GenEvent const &){ return 123456790; }\")"
   ]
  },
  {
   "cell_type": "code",
   "execution_count": 3,
   "id": "70658f9e-8e15-48d1-a498-730eaff7058e",
   "metadata": {},
   "outputs": [],
   "source": [
    "!echo \"int myfunc(HepMC3::GenEvent const &){ return 123456789; }\" > pyproselectaplugin.test.cpp\n",
    "!echo \"int mysecondfunc(HepMC3::GenEvent const &evt){ return myfirstfunc(evt); }\" >> pyproselectaplugin.test.cpp"
   ]
  },
  {
   "cell_type": "code",
   "execution_count": 4,
   "id": "efc60004-add9-4b56-ab4f-4f73ff93c483",
   "metadata": {},
   "outputs": [
    {
     "name": "stdout",
     "output_type": "stream",
     "text": [
      "int myfunc(HepMC3::GenEvent const &){ return 123456789; }\n",
      "int mysecondfunc(HepMC3::GenEvent const &evt){ return myfirstfunc(evt); }\n"
     ]
    }
   ],
   "source": [
    "!cat pyproselectaplugin.test.cpp"
   ]
  },
  {
   "cell_type": "code",
   "execution_count": 5,
   "id": "41fce736-e114-4b3b-9a59-73586a9501e7",
   "metadata": {},
   "outputs": [
    {
     "data": {
      "text/plain": [
       "123456789"
      ]
     },
     "execution_count": 5,
     "metadata": {},
     "output_type": "execute_result"
    }
   ],
   "source": [
    "psp.callplugin(\"pyproselectaplugin.test.cpp\",\"myfunc\")"
   ]
  },
  {
   "cell_type": "code",
   "execution_count": 6,
   "id": "159e2161-9082-48ba-a7a1-d34b5c8e22f5",
   "metadata": {},
   "outputs": [
    {
     "data": {
      "text/plain": [
       "123456790"
      ]
     },
     "execution_count": 6,
     "metadata": {},
     "output_type": "execute_result"
    }
   ],
   "source": [
    "psp.callplugin(\"pyproselectaplugin.test.cpp\",\"mysecondfunc\")"
   ]
  },
  {
   "cell_type": "code",
   "execution_count": null,
   "id": "974a6c42-e865-45a9-98bf-65c84e274c52",
   "metadata": {},
   "outputs": [],
   "source": []
  }
 ],
 "metadata": {
  "kernelspec": {
   "display_name": "Python 3 (ipykernel)",
   "language": "python",
   "name": "python3"
  },
  "language_info": {
   "codemirror_mode": {
    "name": "ipython",
    "version": 3
   },
   "file_extension": ".py",
   "mimetype": "text/x-python",
   "name": "python",
   "nbconvert_exporter": "python",
   "pygments_lexer": "ipython3",
   "version": "3.9.18"
  }
 },
 "nbformat": 4,
 "nbformat_minor": 5
}
